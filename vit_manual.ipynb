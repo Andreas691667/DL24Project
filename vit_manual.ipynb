{
 "cells": [
  {
   "cell_type": "code",
   "execution_count": 8,
   "metadata": {},
   "outputs": [],
   "source": [
    "import torch\n",
    "import torchvision.transforms as transforms\n",
    "import lightning as L\n",
    "import torchmetrics\n",
    "\n",
    "import brain_tumor_dataset as btd"
   ]
  },
  {
   "cell_type": "code",
   "execution_count": 5,
   "metadata": {},
   "outputs": [],
   "source": [
    "# transform the images to ensure equal size and tensors\n",
    "transform = transforms.Compose([\n",
    "\ttransforms.Resize((512, 512)),\n",
    "\ttransforms.ToTensor(),\n",
    "\ttransforms.Grayscale()\t\n",
    "])\n",
    "\n",
    "train_dataset = btd.BrainTumorDataset(btd.TRAIN_DATA_PATH, transform=transform)\n",
    "\n",
    "# train_dataset = BrainTumorDataset(train_df, train_dir, transform=transform)\n",
    "test_dataset = btd.BrainTumorDataset(btd.TEST_DATA_PATH, transform=transform)\n",
    "\n",
    "batch_size = 32\n",
    "\n",
    "train_loader = torch.utils.data.DataLoader(train_dataset, batch_size=batch_size, shuffle=True)\n",
    "test_loader = torch.utils.data.DataLoader(test_dataset, batch_size=batch_size, shuffle=False)\n",
    "\n",
    "# Display the images in a grid from one batch in the DataLoader\n",
    "# for imgs, labels in train_loader:\n",
    "#     btd.show_image_grid(imgs, labels, rows = batch_size//4, cols = 4)\n",
    "#     break  "
   ]
  },
  {
   "cell_type": "code",
   "execution_count": null,
   "metadata": {},
   "outputs": [
    {
     "name": "stdout",
     "output_type": "stream",
     "text": [
      "torch.Size([8, 256])\n"
     ]
    }
   ],
   "source": [
    "class VisionTransformer(L.LightningModule):\n",
    "\tdef __init__(self, \n",
    "                 embedding_dim=64, \n",
    "                 patch_size=32, \n",
    "                 num_layers=4, \n",
    "                 n_heads=8, \n",
    "                 dim_feedforward=64,\n",
    "\t\t\t\tlearning_rate=1e-4):\n",
    "\t\tsuper().__init__()\n",
    "\n",
    "\t\t# hyperparameters\n",
    "\t\tself.learning_rate = learning_rate\n",
    "\t\tself.criterion = torch.nn.CrossEntropyLoss()\n",
    "\n",
    "\t\t# metrics\n",
    "\t\tself.train_accuracy = torchmetrics.Accuracy(task=\"multiclass\", num_classes=4)\n",
    "\t\tself.val_accuracy = torchmetrics.Accuracy(task=\"multiclass\", num_classes=4)\n",
    "\n",
    "\t\tself.embedding = torch.nn.Conv2d(\n",
    "\t\t\t1, embedding_dim, kernel_size=patch_size, stride=patch_size\n",
    "\t\t)\n",
    "\n",
    "\t\t# class token for classification\n",
    "\t\tself.class_token = torch.nn.Parameter(torch.randn(1, 1, embedding_dim))\n",
    "\t\t# positional embedding\n",
    "\t\tself.positional_embedding = torch.nn.Parameter(torch.randn(1, 1, embedding_dim))\n",
    "\t\t# transformer encoder layer\n",
    "\t\tself.encoder = torch.nn.TransformerEncoder( # we can add a norm between each encoder layer here\n",
    "\t\t\ttorch.nn.TransformerEncoderLayer( \n",
    "\t\t\t\td_model=embedding_dim, nhead=n_heads, dim_feedforward=dim_feedforward\n",
    "\t\t\t),\n",
    "\t\t\tnum_layers=num_layers,\n",
    "\t\t\tenable_nested_tensor=False,\n",
    "\t\t)\n",
    "\n",
    "\t\t# linear layer for classification\n",
    "\t\t# TODO: add a linear layer for classification\t\n",
    "\n",
    "\tdef forward(self, x):\n",
    "\t\tx = self.embedding(x)\n",
    "\t\t# TODO\n",
    "\t\treturn x\n",
    "    \n",
    "\tdef training_step(self, batch, batch_idx):\n",
    "\t\tinputs, labels = batch\n",
    "\t\toutput = self(inputs)\n",
    "\t\tloss = self.criterion(output, labels)\n",
    "\n",
    "\t\tself.log('train_loss', loss, on_step=True, on_epoch=True, prog_bar=True)\n",
    "\t\tself.train_accuracy(output, labels)\n",
    "\t\tself.log('train_accuracy', self.train_accuracy, on_step=True, on_epoch=True)\n",
    "\n",
    "\t\treturn loss\n",
    "\n",
    "\tdef validation(self, batch, batch_idx):\n",
    "\t\tpass\n",
    "\n",
    "\tdef configure_optimizers(self):\n",
    "\t\treturn torch.optim.Adam(self.parameters(), lr=self.learning_rate)\n",
    "\n",
    "\n",
    "# test with random image\n",
    "model = VisionTransformer(embedding_dim=8)\n",
    "imgs, labels = next(iter(train_loader))\n",
    "output = model(imgs[0])\n",
    "output = output.flatten(start_dim=1)\n",
    "print(output.shape)"
   ]
  },
  {
   "cell_type": "code",
   "execution_count": 7,
   "metadata": {},
   "outputs": [
    {
     "name": "stderr",
     "output_type": "stream",
     "text": [
      "GPU available: False, used: False\n",
      "TPU available: False, using: 0 TPU cores\n",
      "HPU available: False, using: 0 HPUs\n",
      "c:\\Users\\Andreas\\anaconda3\\envs\\deep_learning\\Lib\\site-packages\\lightning\\pytorch\\trainer\\connectors\\logger_connector\\logger_connector.py:75: Starting from v1.9.0, `tensorboardX` has been removed as a dependency of the `lightning.pytorch` package, due to potential conflicts with other packages in the ML ecosystem. For this reason, `logger=True` will use `CSVLogger` as the default logger, unless the `tensorboard` or `tensorboardX` packages are found. Please `pip install lightning[extra]` or one of them to enable TensorBoard support by default\n"
     ]
    }
   ],
   "source": [
    "trainer = L.Trainer(max_epochs=10)"
   ]
  }
 ],
 "metadata": {
  "kernelspec": {
   "display_name": "deep_learning",
   "language": "python",
   "name": "python3"
  },
  "language_info": {
   "codemirror_mode": {
    "name": "ipython",
    "version": 3
   },
   "file_extension": ".py",
   "mimetype": "text/x-python",
   "name": "python",
   "nbconvert_exporter": "python",
   "pygments_lexer": "ipython3",
   "version": "3.12.7"
  }
 },
 "nbformat": 4,
 "nbformat_minor": 2
}
