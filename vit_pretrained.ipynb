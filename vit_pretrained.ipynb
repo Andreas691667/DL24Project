{
 "cells": [
  {
   "cell_type": "code",
   "execution_count": 1,
   "metadata": {},
   "outputs": [
    {
     "name": "stderr",
     "output_type": "stream",
     "text": [
      "c:\\Users\\Andreas\\anaconda3\\envs\\deep_learning\\Lib\\site-packages\\tqdm\\auto.py:21: TqdmWarning: IProgress not found. Please update jupyter and ipywidgets. See https://ipywidgets.readthedocs.io/en/stable/user_install.html\n",
      "  from .autonotebook import tqdm as notebook_tqdm\n"
     ]
    },
    {
     "name": "stdout",
     "output_type": "stream",
     "text": [
      "Warning: Looks like you're using an outdated `kagglehub` version, please consider updating (latest version: 0.3.4)\n",
      "Warning: Looks like you're using an outdated `kagglehub` version, please consider updating (latest version: 0.3.4)\n"
     ]
    }
   ],
   "source": [
    "import numpy as np\n",
    "import matplotlib.pyplot as plt\n",
    "import torch\n",
    "import torchvision.transforms as transforms\n",
    "import lightning as L\n",
    "from torchvision.models import vit_b_16, vit_b_32 # pretrained model\n",
    "from torchsummary import summary\n",
    "import torchmetrics\n",
    "import cv2\n",
    "import optuna\n",
    "import joblib\n",
    "\n",
    "import brain_tumor_dataset as btd"
   ]
  },
  {
   "cell_type": "markdown",
   "metadata": {},
   "source": [
    "# Setup data"
   ]
  },
  {
   "cell_type": "code",
   "execution_count": 2,
   "metadata": {},
   "outputs": [
    {
     "data": {
      "text/plain": [
       "(5712, 656, 655)"
      ]
     },
     "execution_count": 2,
     "metadata": {},
     "output_type": "execute_result"
    }
   ],
   "source": [
    "# Define the transformation for the images\n",
    "transform = transforms.Compose([\n",
    "\ttransforms.Grayscale(num_output_channels=3),   # convert to 3 channels\n",
    "\ttransforms.Resize((224, 224)),                 # resize to 224x224\n",
    "\ttransforms.ToTensor(),\n",
    "])\n",
    "\n",
    "# Load your datasets with the defined transformations\n",
    "train_dataset = btd.BrainTumorDataset(btd.TRAIN_DATA_PATH, transform=transform)\n",
    "test_dataset = btd.BrainTumorDataset(btd.TEST_DATA_PATH, transform=transform)\n",
    "\n",
    "val_size = len(test_dataset) // 2\n",
    "test_size = len(test_dataset) - val_size\n",
    "test_dataset, val_dataset = torch.utils.data.random_split(test_dataset, [test_size, val_size])\n",
    "\n",
    "batch_size = 32\n",
    "train_loader = torch.utils.data.DataLoader(train_dataset, batch_size=batch_size, shuffle=True)\n",
    "val_loader = torch.utils.data.DataLoader(val_dataset, batch_size=batch_size, shuffle=False)\n",
    "test_loader = torch.utils.data.DataLoader(test_dataset, batch_size=batch_size, shuffle=False)\n",
    "\n",
    "len(train_dataset), len(test_dataset), len(val_dataset)"
   ]
  },
  {
   "cell_type": "markdown",
   "metadata": {},
   "source": [
    "# Setup classifier"
   ]
  },
  {
   "cell_type": "code",
   "execution_count": 3,
   "metadata": {},
   "outputs": [],
   "source": [
    "# Define the PyTorch Lightning Module\n",
    "class BrainTumorClassifier(L.LightningModule):\n",
    "\tdef __init__(self, \n",
    "\t\t\t  learning_rate=1e-3, \n",
    "\t\t\t  patch_size=16,\n",
    "\t\t\t  batch_size=32,\n",
    "\t\t\t  pretrained_weights = \"IMAGENET1K_V1\"):\n",
    "\t\tsuper().__init__()\n",
    "\t\t# Initialize the model with the pre-trained ViT\n",
    "\t\tif patch_size == 16:\n",
    "\t\t\tself.model = vit_b_16(weights=pretrained_weights)\n",
    "\t\telif patch_size == 32:\n",
    "\t\t\tself.model = vit_b_32(weights=pretrained_weights)\n",
    "\n",
    "\t\tself.model.heads = torch.nn.Linear(self.model.hidden_dim, 4)  # Modify for 4 classes\n",
    "\n",
    "\t\t# Define loss function and learning rate\n",
    "\t\tself.criterion = torch.nn.CrossEntropyLoss()\n",
    "\t\tself.learning_rate = learning_rate\n",
    "\n",
    "\t\t# Initialize accuracy metric for logging\n",
    "\t\tself.train_accuracy = torchmetrics.Accuracy(task=\"multiclass\", num_classes=4)\n",
    "\t\tself.val_accuracy = torchmetrics.Accuracy(task=\"multiclass\", num_classes=4)\n",
    "\n",
    "\t\tself.attention_maps = {}  # To store attention maps\n",
    "\n",
    "\tdef forward(self, x):\n",
    "\t\treturn self.model(x)\n",
    "\n",
    "\tdef training_step(self, batch, batch_idx):\n",
    "\t\tinputs, labels = batch\n",
    "\t\toutputs = self(inputs)\n",
    "\t\tloss = self.criterion(outputs, labels)\n",
    "\n",
    "\t\t# Log loss and accuracy\n",
    "\t\tself.log('train_loss', loss, on_step=True, on_epoch=True, prog_bar=True)\n",
    "\t\tself.train_accuracy(outputs, labels)\n",
    "\t\tself.log('train_acc', self.train_accuracy, on_step=True, on_epoch=True, prog_bar=True)\n",
    "\n",
    "\t\treturn loss\n",
    "\t\n",
    "\tdef validation_step(self, batch, batch_idx):\n",
    "\t\tinputs, labels = batch\n",
    "\t\toutputs = self(inputs)\n",
    "\t\tloss = self.criterion(outputs, labels)\n",
    "\n",
    "\t\t# Log loss and accuracy\n",
    "\t\tself.log('val_loss', loss, on_epoch=True, prog_bar=True)\n",
    "\t\tself.val_accuracy(outputs, labels)\n",
    "\t\tself.log('val_acc', self.val_accuracy, on_epoch=True, prog_bar=True)\n",
    "\n",
    "\t\treturn loss\n",
    "\n",
    "\tdef test_step(self, batch, batch_idx):\n",
    "\t\tinputs, labels = batch\n",
    "\t\toutputs = self(inputs)\n",
    "\t\tloss = self.criterion(outputs, labels)\n",
    "\n",
    "\t\t# Log loss and accuracy\n",
    "\t\tself.log('test_loss', loss, on_epoch=True, prog_bar=True)\n",
    "\t\tself.val_accuracy(outputs, labels)\n",
    "\t\tself.log('test_acc', self.val_accuracy, on_epoch=True, prog_bar=True)\n",
    "\n",
    "\t\tself.log_attention_maps(inputs, labels, outputs, batch_idx)  # Save attention maps\n",
    "\n",
    "\t\treturn loss\n",
    "\t\n",
    "\tdef configure_optimizers(self):\n",
    "\t\treturn torch.optim.Adam(self.parameters(), lr=self.learning_rate)\n",
    "\t\n",
    "\tdef register_attention_hooks(self):\n",
    "\t\t\"\"\"Register hooks to capture attention maps.\"\"\"\n",
    "\t\tself.attention_maps.clear()  # Reset attention maps\n",
    "\n",
    "\t\tdef hook_fn(module, input, output, module_name):\n",
    "\t\t\tmodule_name = module_name.split(\".\")[2]  # Get the layer name\n",
    "\t\t\tself.attention_maps[module_name] = output[1]  # Save attention map\n",
    "\t\t\t# q, k, _ = input\n",
    "\t\t\t# self.attention_maps[module_name] = torch.nn.functional.softmax(q @ k.transpose(-2, -1))  # Save attention map\n",
    "\n",
    "\t\t# Register hooks on all MultiheadAttention layers\n",
    "\t\tfor i, module in self.model.named_modules():\n",
    "\t\t\tif isinstance(module, torch.nn.MultiheadAttention):\n",
    "\t\t\t\tmodule.register_forward_hook(lambda module, input, output, module_name=i: hook_fn(module, input, output, module_name))\n",
    "\t\n",
    "\tdef on_test_start(self):\n",
    "\t\t# Register the hook to each multi-head attention layer before testing\n",
    "\t\tself.register_attention_hooks()\n",
    "\n",
    "\tdef log_attention_maps(self, inputs, labels, output, batch_idx):\n",
    "\t\t\t\"\"\"Log attention maps overlaid on the original image using Lightning's logger.\"\"\"\n",
    "\n",
    "\t\t\tpredicted_labels = [btd.BrainTumorDataset().idx_to_class[lbl.item()] for lbl in torch.argmax(output, dim=1)]\n",
    "\t\t\tbatch_size = inputs.size(0)\n",
    "\t\t\tfor i in range(batch_size):\n",
    "\t\t\t\trollout_attention_map = torch.eye(self.attention_maps['encoder_layer_1'].size(-1))\n",
    "\t\t\t\tfor _, attention in self.attention_maps.items():\n",
    "\t\t\t\t\t# Get the attention map for the first image in the batch\n",
    "\t\t\t\t\tattention_map = attention[i]  # Shape: [num_tokens, embedding_size]\n",
    "\n",
    "\t\t\t\t\tattention_map = attention_map + torch.eye(attention_map.size(-1))  # Add identity matrix\n",
    "\t\t\t\t\tattention_map /= attention_map.sum(dim=-1, keepdim=True)  # Normalize attention map\n",
    "\t\t\t\t\tif rollout_attention_map is None:\n",
    "\t\t\t\t\t\trollout_attention_map = attention_map\n",
    "\t\t\t\t\telse:\n",
    "\t\t\t\t\t\trollout_attention_map = torch.matmul(rollout_attention_map, attention_map)\n",
    "\n",
    "\t\t\t\t# class_token_embedding = class_token_embedding / torch.norm(class_token_embedding)\n",
    "\t\t\t\tnum_patches_side = int((attention_map.size(0) - 1) ** 0.5)\n",
    "\t\t\t\tclass_token_embedding = rollout_attention_map[0, 1:] # Shape: (embedding_size)\n",
    "\t\t\t\tattention_map = 1 - class_token_embedding.view(num_patches_side, num_patches_side, -1).clone()\n",
    "\t\t\t\tattention_map = (attention_map - attention_map.min()) / (attention_map.max() - attention_map.min())\n",
    "\t\t\t\t# average_attention_map = average_attention_map / num_layers\n",
    "\n",
    "\t\t\t\taverage_attention_map = attention_map.cpu().detach().numpy()\n",
    "\t\t\t\taverage_attention_map = cv2.resize(average_attention_map, (inputs.size(2), inputs.size(3)))\n",
    "\t\t\t\theatmap = cv2.applyColorMap(np.uint8(255 * average_attention_map), cv2.COLORMAP_JET)\n",
    "\n",
    "\t\t\t\t# Overlay the heatmap on the original image\n",
    "\t\t\t\timage = inputs[i].cpu().numpy().transpose(1, 2, 0)\n",
    "\t\t\t\timage = (image*255).astype(np.uint8)\n",
    "\t\t\t\toverlayed_image = cv2.addWeighted(image, 0.8, heatmap, 0.4, 0)\n",
    "\n",
    "\t\t\t\t# add class label\n",
    "\t\t\t\tlabel = labels[i].item()\n",
    "\t\t\t\tlabel = btd.BrainTumorDataset().idx_to_class[label]\n",
    "\t\t\t\tcv2.putText(overlayed_image, f\"Real class: {label}\", (10, 30), cv2.FONT_HERSHEY_SIMPLEX, 0.5, (255, 255, 255), 1, cv2.LINE_AA)\n",
    "\t\t\t\tcv2.putText(overlayed_image, f\"Predicted class: {predicted_labels[i]}\", (10, 50), cv2.FONT_HERSHEY_SIMPLEX, 0.5, (255, 255, 255), 1, cv2.LINE_AA)\n",
    "\n",
    "\t\t\t\t# convert to chw\n",
    "\t\t\t\toverlayed_image = overlayed_image.transpose(2, 0, 1)\n",
    "\n",
    "\t\t\t\t# Create a blank image to place the original and overlayed images side by side\n",
    "\t\t\t\tcombined_image = np.zeros((inputs.size(2), inputs.size(3) * 2, 3), dtype=np.uint8)\n",
    "\n",
    "\t\t\t\t# Place the original image on the left\n",
    "\t\t\t\tcombined_image[:, :inputs.size(3), :] = image\n",
    "\n",
    "\t\t\t\t# Place the overlayed image on the right\n",
    "\t\t\t\toverlayed_image = overlayed_image.transpose(1, 2, 0)  # Convert back to HWC\n",
    "\t\t\t\tcombined_image[:, inputs.size(3):, :] = overlayed_image\n",
    "\n",
    "\t\t\t\t# Convert back to CHW for logging\n",
    "\t\t\t\tcombined_image = combined_image.transpose(2, 0, 1)\n",
    "\n",
    "\t\t\t\t# log to tensorboard\n",
    "\t\t\t\tself.logger.experiment.add_image(f'attn_map/batch_{batch_idx}/img_{i}', combined_image, self.current_epoch)"
   ]
  },
  {
   "cell_type": "code",
   "execution_count": 18,
   "metadata": {},
   "outputs": [
    {
     "name": "stderr",
     "output_type": "stream",
     "text": [
      "GPU available: False, used: False\n",
      "TPU available: False, using: 0 TPU cores\n",
      "HPU available: False, using: 0 HPUs\n"
     ]
    }
   ],
   "source": [
    "# Create the model instance\n",
    "weights_path = \"./logs/vit_pretrained/colab_run5/version_0/epoch-epoch=03-val_loss-val_loss=0.03.ckpt\"\n",
    "model = BrainTumorClassifier()\n",
    "# model = BrainTumorClassifier.load_from_checkpoint(weights_path, map_location=model.device)\n",
    "\n",
    "# Define callbacks\n",
    "checkpoint_callback = L.pytorch.callbacks.ModelCheckpoint(\n",
    "\tmonitor=\"val_loss\",                     # Monitor validation loss\n",
    "\tmode = \"min\",                           # mode for monitored metric\n",
    "\tdirpath=\"checkpoints/\",                   # Directory to save checkpoints\n",
    "\tfilename=\"epoch-{epoch:02d}-val_loss-{val_loss:.2f}\",  # Naming pattern\n",
    "\tsave_top_k=-1,                          # Save all checkpoints\n",
    "\tevery_n_epochs=1,                       # Save at every epoch\n",
    ")\n",
    "\n",
    "early_stopping_callback = L.pytorch.callbacks.EarlyStopping(\n",
    "\tmonitor=\"val_loss\",                     # Metric to monitor\n",
    "\tpatience=5,                             # Stop training if no improvement for 5 epochs\n",
    "\tmode=\"min\",                             # Stop when `val_loss` stops decreasing\n",
    ")\n",
    "\n",
    "logger = L.pytorch.loggers.TensorBoardLogger(\"logs\", name=\"vit_pretrained\")\n",
    "\n",
    "\n",
    "# Define the PyTorch Lightning Trainer\n",
    "trainer = L.Trainer(max_epochs=10, \n",
    "\t\t\t\t\taccelerator=\"auto\", \n",
    "\t\t\t\t\tlogger=logger,\n",
    "\t\t\t\t\tcallbacks=[checkpoint_callback, early_stopping_callback])"
   ]
  },
  {
   "cell_type": "code",
   "execution_count": null,
   "metadata": {},
   "outputs": [],
   "source": [
    "# Train the model\n",
    "trainer.fit(model, train_dataloaders=train_loader, val_dataloaders=val_loader)"
   ]
  },
  {
   "cell_type": "code",
   "execution_count": 28,
   "metadata": {},
   "outputs": [
    {
     "name": "stderr",
     "output_type": "stream",
     "text": [
      "c:\\Users\\Andreas\\anaconda3\\envs\\deep_learning\\Lib\\site-packages\\lightning\\pytorch\\trainer\\connectors\\data_connector.py:424: The 'test_dataloader' does not have many workers which may be a bottleneck. Consider increasing the value of the `num_workers` argument` to `num_workers=7` in the `DataLoader` to improve performance.\n"
     ]
    },
    {
     "name": "stdout",
     "output_type": "stream",
     "text": [
      "Testing DataLoader 0: 100%|██████████| 21/21 [03:22<00:00,  0.10it/s]\n"
     ]
    },
    {
     "data": {
      "text/html": [
       "<pre style=\"white-space:pre;overflow-x:auto;line-height:normal;font-family:Menlo,'DejaVu Sans Mono',consolas,'Courier New',monospace\">┏━━━━━━━━━━━━━━━━━━━━━━━━━━━┳━━━━━━━━━━━━━━━━━━━━━━━━━━━┓\n",
       "┃<span style=\"font-weight: bold\">        Test metric        </span>┃<span style=\"font-weight: bold\">       DataLoader 0        </span>┃\n",
       "┡━━━━━━━━━━━━━━━━━━━━━━━━━━━╇━━━━━━━━━━━━━━━━━━━━━━━━━━━┩\n",
       "│<span style=\"color: #008080; text-decoration-color: #008080\">         test_acc          </span>│<span style=\"color: #800080; text-decoration-color: #800080\">    0.9923780560493469     </span>│\n",
       "│<span style=\"color: #008080; text-decoration-color: #008080\">         test_loss         </span>│<span style=\"color: #800080; text-decoration-color: #800080\">    0.03537702560424805    </span>│\n",
       "└───────────────────────────┴───────────────────────────┘\n",
       "</pre>\n"
      ],
      "text/plain": [
       "┏━━━━━━━━━━━━━━━━━━━━━━━━━━━┳━━━━━━━━━━━━━━━━━━━━━━━━━━━┓\n",
       "┃\u001b[1m \u001b[0m\u001b[1m       Test metric       \u001b[0m\u001b[1m \u001b[0m┃\u001b[1m \u001b[0m\u001b[1m      DataLoader 0       \u001b[0m\u001b[1m \u001b[0m┃\n",
       "┡━━━━━━━━━━━━━━━━━━━━━━━━━━━╇━━━━━━━━━━━━━━━━━━━━━━━━━━━┩\n",
       "│\u001b[36m \u001b[0m\u001b[36m        test_acc         \u001b[0m\u001b[36m \u001b[0m│\u001b[35m \u001b[0m\u001b[35m   0.9923780560493469    \u001b[0m\u001b[35m \u001b[0m│\n",
       "│\u001b[36m \u001b[0m\u001b[36m        test_loss        \u001b[0m\u001b[36m \u001b[0m│\u001b[35m \u001b[0m\u001b[35m   0.03537702560424805   \u001b[0m\u001b[35m \u001b[0m│\n",
       "└───────────────────────────┴───────────────────────────┘\n"
      ]
     },
     "metadata": {},
     "output_type": "display_data"
    },
    {
     "data": {
      "text/plain": [
       "[{'test_loss': 0.03537702560424805, 'test_acc': 0.9923780560493469}]"
      ]
     },
     "execution_count": 28,
     "metadata": {},
     "output_type": "execute_result"
    }
   ],
   "source": [
    "# Test the model\n",
    "trainer.test(model, dataloaders=test_loader)"
   ]
  },
  {
   "cell_type": "markdown",
   "metadata": {},
   "source": [
    "# Training (using Optuna)\n",
    "Based on [this guide](https://medium.com/swlh/optuna-hyperparameter-optimization-in-pytorch-9ab5a5a39e77)"
   ]
  },
  {
   "cell_type": "code",
   "execution_count": 11,
   "metadata": {},
   "outputs": [],
   "source": [
    "# Define the objective function for Optuna (the function to optimize)\n",
    "def objective(trial):\n",
    "    # Suggest hyperparameters\n",
    "    learning_rate = trial.suggest_float('learning_rate', 1e-4, 1e-3, log=True)\n",
    "    weight_decay = trial.suggest_float('weight_decay', 1e-6, 1e-2, log=True)\n",
    "    patch_size = trial.suggest_categorical('patch_size', [16])\n",
    "    batch_size = trial.suggest_categorical('batch_size', [32, 64, 128])\n",
    "\n",
    "    # Create the model and data module with suggested hyperparameters\n",
    "    model = BrainTumorClassifier(learning_rate=learning_rate,\n",
    "                                 patch_size=patch_size,\n",
    "                                 batch_size=batch_size)\n",
    "\n",
    "\t# Define callbacks\n",
    "    checkpoint_callback = L.pytorch.callbacks.ModelCheckpoint(\n",
    "\t\tmonitor=\"val_loss\",                     # Monitor validation loss\n",
    "\t\tmode = \"min\",                           # mode for monitored metric\n",
    "\t\tdirpath=\"checkpoints/\",                   # Directory to save checkpoints\n",
    "\t\tfilename=\"epoch-{epoch:02d}-val_loss-{val_loss:.2f}\",  # Naming pattern\n",
    "\t\tsave_top_k=-1,                          # Save all checkpoints\n",
    "\t\tevery_n_epochs=1,                       # Save at every epoch\n",
    "\t)\n",
    "\n",
    "    early_stopping_callback = L.pytorch.callbacks.EarlyStopping(\n",
    "\t\tmonitor=\"val_loss\",                     # Metric to monitor\n",
    "\t\tpatience=5,                             # Stop training if no improvement for 5 epochs\n",
    "\t\tmode=\"min\",                             # Stop when `val_loss` stops decreasing\n",
    "\t)\n",
    "\n",
    "    logger = L.pytorch.loggers.TensorBoardLogger(\"logs\", name=\"vit_pretrained\")\n",
    "\n",
    "    # Define the PyTorch Lightning Trainer\n",
    "    trainer = L.Trainer(\n",
    "        max_epochs=20,\n",
    "        accelerator=\"auto\",\n",
    "        logger=logger,\n",
    "        callbacks=[early_stopping_callback, checkpoint_callback],\n",
    "    )\n",
    "\n",
    "    # Train the model\n",
    "    # trainer.fit(model, train_dataloaders=train_loader, val_dataloaders=val_loader)\n",
    "\n",
    "    # save the model\n",
    "    trainer.save_checkpoint(f\"vit_pretrained_{trial.number}.ckpt\")\n",
    "\n",
    "    # Evaluate the model\n",
    "    val_loss = trainer.callback_metrics[\"val_loss\"].item()\n",
    "\n",
    "    # report intermediate objective value\n",
    "    trial.report(val_loss, step=trainer.current_epoch)\n",
    "\n",
    "    # Handle pruning based on the intermediate value\n",
    "    if trial.should_prune():\n",
    "        raise optuna.TrialPruned()\n",
    "\n",
    "    return val_loss"
   ]
  },
  {
   "cell_type": "code",
   "execution_count": null,
   "metadata": {},
   "outputs": [],
   "source": [
    "# Create an Optuna study and optimize the objective function\n",
    "study = optuna.create_study(direction=\"minimize\", study_name=\"vit_pretrained\")\n",
    "study.optimize(objective, n_trials=12, show_progress_bar=True, n_jobs=3)\n",
    "\n",
    "# Print the best hyperparameters\n",
    "print(\"Best hyperparameters: \", study.best_params)"
   ]
  },
  {
   "cell_type": "markdown",
   "metadata": {},
   "source": [
    "# Model testing"
   ]
  },
  {
   "cell_type": "code",
   "execution_count": 34,
   "metadata": {},
   "outputs": [],
   "source": [
    "import yaml\n",
    "\n",
    "# setup the paths\n",
    "root = \"logs\"\n",
    "name = \"vit_pretrained/colab_run5\"\n",
    "version = \"version_6\"\n",
    "\n",
    "path = f\"{root}/{name}/{version}\"\n",
    "weights_path = f\"{path}/vit_pretrained_6.ckpt\"\n",
    "hparams_path = f\"{path}/hparams.yaml\"\n",
    "\n",
    "# Load the hyperparameters\n",
    "hparams = yaml.safe_load(open(hparams_path))\n",
    "\n",
    "# Create the model and data module\n",
    "model = BrainTumorClassifier(\n",
    "    learning_rate=hparams[\"learning_rate\"],\n",
    "\tpatch_size=hparams[\"patch_size\"],\n",
    "\tbatch_size=hparams[\"batch_size\"]\n",
    ")\n",
    "\n",
    "# Load the model weights\n",
    "model = BrainTumorClassifier.load_from_checkpoint(weights_path)"
   ]
  },
  {
   "cell_type": "code",
   "execution_count": 5,
   "metadata": {},
   "outputs": [
    {
     "name": "stderr",
     "output_type": "stream",
     "text": [
      "GPU available: False, used: False\n",
      "TPU available: False, using: 0 TPU cores\n",
      "HPU available: False, using: 0 HPUs\n",
      "c:\\Users\\Andreas\\anaconda3\\envs\\deep_learning\\Lib\\site-packages\\lightning\\pytorch\\trainer\\connectors\\data_connector.py:424: The 'test_dataloader' does not have many workers which may be a bottleneck. Consider increasing the value of the `num_workers` argument` to `num_workers=7` in the `DataLoader` to improve performance.\n"
     ]
    },
    {
     "name": "stdout",
     "output_type": "stream",
     "text": [
      "Testing DataLoader 0: 100%|██████████| 21/21 [03:12<00:00,  0.11it/s]\n"
     ]
    },
    {
     "data": {
      "text/html": [
       "<pre style=\"white-space:pre;overflow-x:auto;line-height:normal;font-family:Menlo,'DejaVu Sans Mono',consolas,'Courier New',monospace\">┏━━━━━━━━━━━━━━━━━━━━━━━━━━━┳━━━━━━━━━━━━━━━━━━━━━━━━━━━┓\n",
       "┃<span style=\"font-weight: bold\">        Test metric        </span>┃<span style=\"font-weight: bold\">       DataLoader 0        </span>┃\n",
       "┡━━━━━━━━━━━━━━━━━━━━━━━━━━━╇━━━━━━━━━━━━━━━━━━━━━━━━━━━┩\n",
       "│<span style=\"color: #008080; text-decoration-color: #008080\">         test_acc          </span>│<span style=\"color: #800080; text-decoration-color: #800080\">    0.9817073345184326     </span>│\n",
       "│<span style=\"color: #008080; text-decoration-color: #008080\">         test_loss         </span>│<span style=\"color: #800080; text-decoration-color: #800080\">    0.07839883118867874    </span>│\n",
       "└───────────────────────────┴───────────────────────────┘\n",
       "</pre>\n"
      ],
      "text/plain": [
       "┏━━━━━━━━━━━━━━━━━━━━━━━━━━━┳━━━━━━━━━━━━━━━━━━━━━━━━━━━┓\n",
       "┃\u001b[1m \u001b[0m\u001b[1m       Test metric       \u001b[0m\u001b[1m \u001b[0m┃\u001b[1m \u001b[0m\u001b[1m      DataLoader 0       \u001b[0m\u001b[1m \u001b[0m┃\n",
       "┡━━━━━━━━━━━━━━━━━━━━━━━━━━━╇━━━━━━━━━━━━━━━━━━━━━━━━━━━┩\n",
       "│\u001b[36m \u001b[0m\u001b[36m        test_acc         \u001b[0m\u001b[36m \u001b[0m│\u001b[35m \u001b[0m\u001b[35m   0.9817073345184326    \u001b[0m\u001b[35m \u001b[0m│\n",
       "│\u001b[36m \u001b[0m\u001b[36m        test_loss        \u001b[0m\u001b[36m \u001b[0m│\u001b[35m \u001b[0m\u001b[35m   0.07839883118867874   \u001b[0m\u001b[35m \u001b[0m│\n",
       "└───────────────────────────┴───────────────────────────┘\n"
      ]
     },
     "metadata": {},
     "output_type": "display_data"
    },
    {
     "data": {
      "text/plain": [
       "[{'test_loss': 0.07839883118867874, 'test_acc': 0.9817073345184326}]"
      ]
     },
     "execution_count": 5,
     "metadata": {},
     "output_type": "execute_result"
    }
   ],
   "source": [
    "# run test\n",
    "logger = L.pytorch.loggers.TensorBoardLogger(root, name=name, version=version)\n",
    "trainer = L.Trainer(logger=logger, accelerator=\"auto\")\n",
    "\n",
    "trainer.test(model, dataloaders=test_loader)"
   ]
  },
  {
   "cell_type": "markdown",
   "metadata": {},
   "source": [
    "# Inspection of Tensorboard file"
   ]
  },
  {
   "cell_type": "code",
   "execution_count": 39,
   "metadata": {},
   "outputs": [],
   "source": [
    "import json\n",
    "# load loss and acc files from json\n",
    "train_loss = json.load(open(f'{path}/{version}_train_loss.json', 'r'))\n",
    "train_acc = json.load(open(f'{path}/{version}_train_acc.json', 'r'))\n",
    "val_loss = json.load(open(f'{path}/{version}_val_loss.json', 'r'))\n",
    "val_acc = json.load(open(f'{path}/{version}_val_acc.json', 'r'))"
   ]
  },
  {
   "cell_type": "code",
   "execution_count": 48,
   "metadata": {},
   "outputs": [
    {
     "data": {
      "image/png": "[encoded data removed]",
      "text/plain": [
       "<Figure size 1000x500 with 1 Axes>"
      ]
     },
     "metadata": {},
     "output_type": "display_data"
    }
   ],
   "source": [
    "import matplotlib.pyplot as plt\n",
    "\n",
    "# Extract the epoch numbers and loss values\n",
    "epochs = list(range(1, len(train_loss) + 1))\n",
    "train_loss_values = [loss[2] for loss in train_loss]\n",
    "val_loss_values = [loss[2] for loss in val_loss]\n",
    "\n",
    "# Plot the training and validation loss\n",
    "plt.figure(figsize=(10, 5))\n",
    "plt.plot(epochs, train_loss_values, label='Training Loss $L_t$')\n",
    "plt.plot(epochs, val_loss_values, label='Validation Loss $L_v$')\n",
    "plt.xlabel('Epochs')\n",
    "plt.ylabel('Loss')\n",
    "plt.title('Training and Validation Loss')\n",
    "plt.legend()\n",
    "plt.grid(True)\n",
    "plt.rcParams.update({'font.size': 15})\n",
    "plt.show()"
   ]
  },
  {
   "cell_type": "code",
   "execution_count": 49,
   "metadata": {},
   "outputs": [
    {
     "data": {
      "image/png": "[encoded data removed]",
      "text/plain": [
       "<Figure size 1000x500 with 1 Axes>"
      ]
     },
     "metadata": {},
     "output_type": "display_data"
    }
   ],
   "source": [
    "# Extract the epoch numbers and loss values\n",
    "epochs = list(range(1, len(train_acc) + 1))\n",
    "train_acc_values = [acc[2] for acc in train_acc]\n",
    "val_acc_values = [acc[2] for acc in val_acc]\n",
    "\n",
    "# Plot the training and validation acc\n",
    "plt.figure(figsize=(10, 5))\n",
    "plt.plot(epochs, train_acc_values, label='Training accuracy $A_t$')\n",
    "plt.plot(epochs, val_acc_values, label='Validation accuracy $A_v$')\n",
    "plt.xlabel('Epochs')\n",
    "plt.ylabel('acc')\n",
    "plt.title('Training and Validation Accuracy')\n",
    "plt.legend()\n",
    "plt.grid(True)\n",
    "plt.rcParams.update({'font.size': 15})\n",
    "plt.show()"
   ]
  },
  {
   "cell_type": "markdown",
   "metadata": {},
   "source": [
    "# Inspection of Optuna results"
   ]
  },
  {
   "cell_type": "code",
   "execution_count": 5,
   "metadata": {},
   "outputs": [
    {
     "name": "stdout",
     "output_type": "stream",
     "text": [
      "{'learning_rate': 0.00016501192788890502, 'patch_size': 16, 'batch_size': 128}\n"
     ]
    }
   ],
   "source": [
    "# to load it:\n",
    "# https://optuna.readthedocs.io/en/stable/tutorial/10_key_features/005_visualization.html\n",
    "import joblib\n",
    "from optuna.visualization import plot_optimization_history\n",
    "from optuna.visualization import plot_parallel_coordinate\n",
    "# study_run1 = joblib.load(\"logs/vit_pretrained/colab_run1/vit_pretrained_study.pkl\")\n",
    "study = joblib.load(\"logs/vit_pretrained/colab_run5/vit_pretrained_study_2024-12-05-14-55.pkl\")\n",
    "print(study.best_trial.params)"
   ]
  },
  {
   "cell_type": "code",
   "execution_count": 7,
   "metadata": {},
   "outputs": [
    {
     "data": {
      "text/html": [
       "<div>\n",
       "<style scoped>\n",
       "    .dataframe tbody tr th:only-of-type {\n",
       "        vertical-align: middle;\n",
       "    }\n",
       "\n",
       "    .dataframe tbody tr th {\n",
       "        vertical-align: top;\n",
       "    }\n",
       "\n",
       "    .dataframe thead th {\n",
       "        text-align: right;\n",
       "    }\n",
       "</style>\n",
       "<table border=\"1\" class=\"dataframe\">\n",
       "  <thead>\n",
       "    <tr style=\"text-align: right;\">\n",
       "      <th></th>\n",
       "      <th>number</th>\n",
       "      <th>value</th>\n",
       "      <th>datetime_start</th>\n",
       "      <th>datetime_complete</th>\n",
       "      <th>duration</th>\n",
       "      <th>params_batch_size</th>\n",
       "      <th>params_learning_rate</th>\n",
       "      <th>params_patch_size</th>\n",
       "      <th>state</th>\n",
       "    </tr>\n",
       "  </thead>\n",
       "  <tbody>\n",
       "    <tr>\n",
       "      <th>0</th>\n",
       "      <td>0</td>\n",
       "      <td>0.157173</td>\n",
       "      <td>2024-12-05 06:55:49.032475</td>\n",
       "      <td>2024-12-05 09:37:03.126183</td>\n",
       "      <td>0 days 02:41:14.093708</td>\n",
       "      <td>128</td>\n",
       "      <td>0.000322</td>\n",
       "      <td>16</td>\n",
       "      <td>COMPLETE</td>\n",
       "    </tr>\n",
       "    <tr>\n",
       "      <th>1</th>\n",
       "      <td>1</td>\n",
       "      <td>0.198278</td>\n",
       "      <td>2024-12-05 06:55:49.034102</td>\n",
       "      <td>2024-12-05 08:49:32.192154</td>\n",
       "      <td>0 days 01:53:43.158052</td>\n",
       "      <td>128</td>\n",
       "      <td>0.000428</td>\n",
       "      <td>16</td>\n",
       "      <td>COMPLETE</td>\n",
       "    </tr>\n",
       "    <tr>\n",
       "      <th>2</th>\n",
       "      <td>2</td>\n",
       "      <td>0.254228</td>\n",
       "      <td>2024-12-05 06:55:49.037257</td>\n",
       "      <td>2024-12-05 08:50:15.519120</td>\n",
       "      <td>0 days 01:54:26.481863</td>\n",
       "      <td>32</td>\n",
       "      <td>0.000580</td>\n",
       "      <td>16</td>\n",
       "      <td>COMPLETE</td>\n",
       "    </tr>\n",
       "    <tr>\n",
       "      <th>3</th>\n",
       "      <td>3</td>\n",
       "      <td>0.148939</td>\n",
       "      <td>2024-12-05 08:49:32.199556</td>\n",
       "      <td>2024-12-05 10:43:00.999844</td>\n",
       "      <td>0 days 01:53:28.800288</td>\n",
       "      <td>64</td>\n",
       "      <td>0.000277</td>\n",
       "      <td>16</td>\n",
       "      <td>COMPLETE</td>\n",
       "    </tr>\n",
       "    <tr>\n",
       "      <th>4</th>\n",
       "      <td>4</td>\n",
       "      <td>0.138225</td>\n",
       "      <td>2024-12-05 08:50:15.526563</td>\n",
       "      <td>2024-12-05 10:44:14.676744</td>\n",
       "      <td>0 days 01:53:59.150181</td>\n",
       "      <td>64</td>\n",
       "      <td>0.000305</td>\n",
       "      <td>16</td>\n",
       "      <td>COMPLETE</td>\n",
       "    </tr>\n",
       "    <tr>\n",
       "      <th>5</th>\n",
       "      <td>5</td>\n",
       "      <td>0.152461</td>\n",
       "      <td>2024-12-05 09:37:03.134107</td>\n",
       "      <td>2024-12-05 12:17:59.726110</td>\n",
       "      <td>0 days 02:40:56.592003</td>\n",
       "      <td>128</td>\n",
       "      <td>0.000244</td>\n",
       "      <td>16</td>\n",
       "      <td>COMPLETE</td>\n",
       "    </tr>\n",
       "    <tr>\n",
       "      <th>6</th>\n",
       "      <td>6</td>\n",
       "      <td>0.108762</td>\n",
       "      <td>2024-12-05 10:43:01.007439</td>\n",
       "      <td>2024-12-05 12:08:05.890919</td>\n",
       "      <td>0 days 01:25:04.883480</td>\n",
       "      <td>128</td>\n",
       "      <td>0.000165</td>\n",
       "      <td>16</td>\n",
       "      <td>COMPLETE</td>\n",
       "    </tr>\n",
       "    <tr>\n",
       "      <th>7</th>\n",
       "      <td>7</td>\n",
       "      <td>0.179275</td>\n",
       "      <td>2024-12-05 10:44:14.682528</td>\n",
       "      <td>2024-12-05 12:38:07.396795</td>\n",
       "      <td>0 days 01:53:52.714267</td>\n",
       "      <td>32</td>\n",
       "      <td>0.000674</td>\n",
       "      <td>16</td>\n",
       "      <td>PRUNED</td>\n",
       "    </tr>\n",
       "    <tr>\n",
       "      <th>8</th>\n",
       "      <td>8</td>\n",
       "      <td>0.309945</td>\n",
       "      <td>2024-12-05 12:08:05.897813</td>\n",
       "      <td>2024-12-05 13:33:48.374986</td>\n",
       "      <td>0 days 01:25:42.477173</td>\n",
       "      <td>32</td>\n",
       "      <td>0.000317</td>\n",
       "      <td>16</td>\n",
       "      <td>PRUNED</td>\n",
       "    </tr>\n",
       "    <tr>\n",
       "      <th>9</th>\n",
       "      <td>9</td>\n",
       "      <td>0.182242</td>\n",
       "      <td>2024-12-05 12:17:59.731745</td>\n",
       "      <td>2024-12-05 14:45:20.183836</td>\n",
       "      <td>0 days 02:27:20.452091</td>\n",
       "      <td>64</td>\n",
       "      <td>0.000909</td>\n",
       "      <td>16</td>\n",
       "      <td>PRUNED</td>\n",
       "    </tr>\n",
       "    <tr>\n",
       "      <th>10</th>\n",
       "      <td>10</td>\n",
       "      <td>0.189665</td>\n",
       "      <td>2024-12-05 12:38:07.402800</td>\n",
       "      <td>2024-12-05 14:33:37.075647</td>\n",
       "      <td>0 days 01:55:29.672847</td>\n",
       "      <td>64</td>\n",
       "      <td>0.000601</td>\n",
       "      <td>16</td>\n",
       "      <td>PRUNED</td>\n",
       "    </tr>\n",
       "    <tr>\n",
       "      <th>11</th>\n",
       "      <td>11</td>\n",
       "      <td>0.120953</td>\n",
       "      <td>2024-12-05 13:33:48.382454</td>\n",
       "      <td>2024-12-05 14:40:38.218403</td>\n",
       "      <td>0 days 01:06:49.835949</td>\n",
       "      <td>32</td>\n",
       "      <td>0.000191</td>\n",
       "      <td>16</td>\n",
       "      <td>COMPLETE</td>\n",
       "    </tr>\n",
       "  </tbody>\n",
       "</table>\n",
       "</div>"
      ],
      "text/plain": [
       "    number     value             datetime_start          datetime_complete  \\\n",
       "0        0  0.157173 2024-12-05 06:55:49.032475 2024-12-05 09:37:03.126183   \n",
       "1        1  0.198278 2024-12-05 06:55:49.034102 2024-12-05 08:49:32.192154   \n",
       "2        2  0.254228 2024-12-05 06:55:49.037257 2024-12-05 08:50:15.519120   \n",
       "3        3  0.148939 2024-12-05 08:49:32.199556 2024-12-05 10:43:00.999844   \n",
       "4        4  0.138225 2024-12-05 08:50:15.526563 2024-12-05 10:44:14.676744   \n",
       "5        5  0.152461 2024-12-05 09:37:03.134107 2024-12-05 12:17:59.726110   \n",
       "6        6  0.108762 2024-12-05 10:43:01.007439 2024-12-05 12:08:05.890919   \n",
       "7        7  0.179275 2024-12-05 10:44:14.682528 2024-12-05 12:38:07.396795   \n",
       "8        8  0.309945 2024-12-05 12:08:05.897813 2024-12-05 13:33:48.374986   \n",
       "9        9  0.182242 2024-12-05 12:17:59.731745 2024-12-05 14:45:20.183836   \n",
       "10      10  0.189665 2024-12-05 12:38:07.402800 2024-12-05 14:33:37.075647   \n",
       "11      11  0.120953 2024-12-05 13:33:48.382454 2024-12-05 14:40:38.218403   \n",
       "\n",
       "                 duration  params_batch_size  params_learning_rate  \\\n",
       "0  0 days 02:41:14.093708                128              0.000322   \n",
       "1  0 days 01:53:43.158052                128              0.000428   \n",
       "2  0 days 01:54:26.481863                 32              0.000580   \n",
       "3  0 days 01:53:28.800288                 64              0.000277   \n",
       "4  0 days 01:53:59.150181                 64              0.000305   \n",
       "5  0 days 02:40:56.592003                128              0.000244   \n",
       "6  0 days 01:25:04.883480                128              0.000165   \n",
       "7  0 days 01:53:52.714267                 32              0.000674   \n",
       "8  0 days 01:25:42.477173                 32              0.000317   \n",
       "9  0 days 02:27:20.452091                 64              0.000909   \n",
       "10 0 days 01:55:29.672847                 64              0.000601   \n",
       "11 0 days 01:06:49.835949                 32              0.000191   \n",
       "\n",
       "    params_patch_size     state  \n",
       "0                  16  COMPLETE  \n",
       "1                  16  COMPLETE  \n",
       "2                  16  COMPLETE  \n",
       "3                  16  COMPLETE  \n",
       "4                  16  COMPLETE  \n",
       "5                  16  COMPLETE  \n",
       "6                  16  COMPLETE  \n",
       "7                  16    PRUNED  \n",
       "8                  16    PRUNED  \n",
       "9                  16    PRUNED  \n",
       "10                 16    PRUNED  \n",
       "11                 16  COMPLETE  "
      ]
     },
     "execution_count": 7,
     "metadata": {},
     "output_type": "execute_result"
    }
   ],
   "source": [
    "study.trials_dataframe()"
   ]
  },
  {
   "cell_type": "code",
   "execution_count": 8,
   "metadata": {},
   "outputs": [
    {
     "data": {
      "application/vnd.plotly.v1+json": {
       "config": {
        "plotlyServerURL": "https://plot.ly"
       },
       "data": [
        {
         "mode": "markers",
         "name": "Objective Value",
         "type": "scatter",
         "x": [
          0,
          1,
          2,
          3,
          4,
          5,
          6,
          11
         ],
         "y": [
          0.15717323124408722,
          0.1982777863740921,
          0.2542279064655304,
          0.14893926680088043,
          0.13822509348392487,
          0.15246127545833588,
          0.1087624728679657,
          0.1209527775645256
         ]
        },
        {
         "mode": "lines",
         "name": "Best Value",
         "type": "scatter",
         "x": [
          0,
          1,
          2,
          3,
          4,
          5,
          6,
          7,
          8,
          9,
          10,
          11
         ],
         "y": [
          0.15717323124408722,
          0.15717323124408722,
          0.15717323124408722,
          0.14893926680088043,
          0.13822509348392487,
          0.13822509348392487,
          0.1087624728679657,
          0.1087624728679657,
          0.1087624728679657,
          0.1087624728679657,
          0.1087624728679657,
          0.1087624728679657
         ]
        },
        {
         "marker": {
          "color": "#cccccc"
         },
         "mode": "markers",
         "name": "Infeasible Trial",
         "showlegend": false,
         "type": "scatter",
         "x": [],
         "y": []
        }
       ],
       "layout": {
        "template": {
         "data": {
          "bar": [
           {
            "error_x": {
             "color": "#2a3f5f"
            },
            "error_y": {
             "color": "#2a3f5f"
            },
            "marker": {
             "line": {
              "color": "#E5ECF6",
              "width": 0.5
             },
             "pattern": {
              "fillmode": "overlay",
              "size": 10,
              "solidity": 0.2
             }
            },
            "type": "bar"
           }
          ],
          "barpolar": [
           {
            "marker": {
             "line": {
              "color": "#E5ECF6",
              "width": 0.5
             },
             "pattern": {
              "fillmode": "overlay",
              "size": 10,
              "solidity": 0.2
             }
            },
            "type": "barpolar"
           }
          ],
          "carpet": [
           {
            "aaxis": {
             "endlinecolor": "#2a3f5f",
             "gridcolor": "white",
             "linecolor": "white",
             "minorgridcolor": "white",
             "startlinecolor": "#2a3f5f"
            },
            "baxis": {
             "endlinecolor": "#2a3f5f",
             "gridcolor": "white",
             "linecolor": "white",
             "minorgridcolor": "white",
             "startlinecolor": "#2a3f5f"
            },
            "type": "carpet"
           }
          ],
          "choropleth": [
           {
            "colorbar": {
             "outlinewidth": 0,
             "ticks": ""
            },
            "type": "choropleth"
           }
          ],
          "contour": [
           {
            "colorbar": {
             "outlinewidth": 0,
             "ticks": ""
            },
            "colorscale": [
             [
              0,
              "#0d0887"
             ],
             [
              0.1111111111111111,
              "#46039f"
             ],
             [
              0.2222222222222222,
              "#7201a8"
             ],
             [
              0.3333333333333333,
              "#9c179e"
             ],
             [
              0.4444444444444444,
              "#bd3786"
             ],
             [
              0.5555555555555556,
              "#d8576b"
             ],
             [
              0.6666666666666666,
              "#ed7953"
             ],
             [
              0.7777777777777778,
              "#fb9f3a"
             ],
             [
              0.8888888888888888,
              "#fdca26"
             ],
             [
              1,
              "#f0f921"
             ]
            ],
            "type": "contour"
           }
          ],
          "contourcarpet": [
           {
            "colorbar": {
             "outlinewidth": 0,
             "ticks": ""
            },
            "type": "contourcarpet"
           }
          ],
          "heatmap": [
           {
            "colorbar": {
             "outlinewidth": 0,
             "ticks": ""
            },
            "colorscale": [
             [
              0,
              "#0d0887"
             ],
             [
              0.1111111111111111,
              "#46039f"
             ],
             [
              0.2222222222222222,
              "#7201a8"
             ],
             [
              0.3333333333333333,
              "#9c179e"
             ],
             [
              0.4444444444444444,
              "#bd3786"
             ],
             [
              0.5555555555555556,
              "#d8576b"
             ],
             [
              0.6666666666666666,
              "#ed7953"
             ],
             [
              0.7777777777777778,
              "#fb9f3a"
             ],
             [
              0.8888888888888888,
              "#fdca26"
             ],
             [
              1,
              "#f0f921"
             ]
            ],
            "type": "heatmap"
           }
          ],
          "heatmapgl": [
           {
            "colorbar": {
             "outlinewidth": 0,
             "ticks": ""
            },
            "colorscale": [
             [
              0,
              "#0d0887"
             ],
             [
              0.1111111111111111,
              "#46039f"
             ],
             [
              0.2222222222222222,
              "#7201a8"
             ],
             [
              0.3333333333333333,
              "#9c179e"
             ],
             [
              0.4444444444444444,
              "#bd3786"
             ],
             [
              0.5555555555555556,
              "#d8576b"
             ],
             [
              0.6666666666666666,
              "#ed7953"
             ],
             [
              0.7777777777777778,
              "#fb9f3a"
             ],
             [
              0.8888888888888888,
              "#fdca26"
             ],
             [
              1,
              "#f0f921"
             ]
            ],
            "type": "heatmapgl"
           }
          ],
          "histogram": [
           {
            "marker": {
             "pattern": {
              "fillmode": "overlay",
              "size": 10,
              "solidity": 0.2
             }
            },
            "type": "histogram"
           }
          ],
          "histogram2d": [
           {
            "colorbar": {
             "outlinewidth": 0,
             "ticks": ""
            },
            "colorscale": [
             [
              0,
              "#0d0887"
             ],
             [
              0.1111111111111111,
              "#46039f"
             ],
             [
              0.2222222222222222,
              "#7201a8"
             ],
             [
              0.3333333333333333,
              "#9c179e"
             ],
             [
              0.4444444444444444,
              "#bd3786"
             ],
             [
              0.5555555555555556,
              "#d8576b"
             ],
             [
              0.6666666666666666,
              "#ed7953"
             ],
             [
              0.7777777777777778,
              "#fb9f3a"
             ],
             [
              0.8888888888888888,
              "#fdca26"
             ],
             [
              1,
              "#f0f921"
             ]
            ],
            "type": "histogram2d"
           }
          ],
          "histogram2dcontour": [
           {
            "colorbar": {
             "outlinewidth": 0,
             "ticks": ""
            },
            "colorscale": [
             [
              0,
              "#0d0887"
             ],
             [
              0.1111111111111111,
              "#46039f"
             ],
             [
              0.2222222222222222,
              "#7201a8"
             ],
             [
              0.3333333333333333,
              "#9c179e"
             ],
             [
              0.4444444444444444,
              "#bd3786"
             ],
             [
              0.5555555555555556,
              "#d8576b"
             ],
             [
              0.6666666666666666,
              "#ed7953"
             ],
             [
              0.7777777777777778,
              "#fb9f3a"
             ],
             [
              0.8888888888888888,
              "#fdca26"
             ],
             [
              1,
              "#f0f921"
             ]
            ],
            "type": "histogram2dcontour"
           }
          ],
          "mesh3d": [
           {
            "colorbar": {
             "outlinewidth": 0,
             "ticks": ""
            },
            "type": "mesh3d"
           }
          ],
          "parcoords": [
           {
            "line": {
             "colorbar": {
              "outlinewidth": 0,
              "ticks": ""
             }
            },
            "type": "parcoords"
           }
          ],
          "pie": [
           {
            "automargin": true,
            "type": "pie"
           }
          ],
          "scatter": [
           {
            "fillpattern": {
             "fillmode": "overlay",
             "size": 10,
             "solidity": 0.2
            },
            "type": "scatter"
           }
          ],
          "scatter3d": [
           {
            "line": {
             "colorbar": {
              "outlinewidth": 0,
              "ticks": ""
             }
            },
            "marker": {
             "colorbar": {
              "outlinewidth": 0,
              "ticks": ""
             }
            },
            "type": "scatter3d"
           }
          ],
          "scattercarpet": [
           {
            "marker": {
             "colorbar": {
              "outlinewidth": 0,
              "ticks": ""
             }
            },
            "type": "scattercarpet"
           }
          ],
          "scattergeo": [
           {
            "marker": {
             "colorbar": {
              "outlinewidth": 0,
              "ticks": ""
             }
            },
            "type": "scattergeo"
           }
          ],
          "scattergl": [
           {
            "marker": {
             "colorbar": {
              "outlinewidth": 0,
              "ticks": ""
             }
            },
            "type": "scattergl"
           }
          ],
          "scattermapbox": [
           {
            "marker": {
             "colorbar": {
              "outlinewidth": 0,
              "ticks": ""
             }
            },
            "type": "scattermapbox"
           }
          ],
          "scatterpolar": [
           {
            "marker": {
             "colorbar": {
              "outlinewidth": 0,
              "ticks": ""
             }
            },
            "type": "scatterpolar"
           }
          ],
          "scatterpolargl": [
           {
            "marker": {
             "colorbar": {
              "outlinewidth": 0,
              "ticks": ""
             }
            },
            "type": "scatterpolargl"
           }
          ],
          "scatterternary": [
           {
            "marker": {
             "colorbar": {
              "outlinewidth": 0,
              "ticks": ""
             }
            },
            "type": "scatterternary"
           }
          ],
          "surface": [
           {
            "colorbar": {
             "outlinewidth": 0,
             "ticks": ""
            },
            "colorscale": [
             [
              0,
              "#0d0887"
             ],
             [
              0.1111111111111111,
              "#46039f"
             ],
             [
              0.2222222222222222,
              "#7201a8"
             ],
             [
              0.3333333333333333,
              "#9c179e"
             ],
             [
              0.4444444444444444,
              "#bd3786"
             ],
             [
              0.5555555555555556,
              "#d8576b"
             ],
             [
              0.6666666666666666,
              "#ed7953"
             ],
             [
              0.7777777777777778,
              "#fb9f3a"
             ],
             [
              0.8888888888888888,
              "#fdca26"
             ],
             [
              1,
              "#f0f921"
             ]
            ],
            "type": "surface"
           }
          ],
          "table": [
           {
            "cells": {
             "fill": {
              "color": "#EBF0F8"
             },
             "line": {
              "color": "white"
             }
            },
            "header": {
             "fill": {
              "color": "#C8D4E3"
             },
             "line": {
              "color": "white"
             }
            },
            "type": "table"
           }
          ]
         },
         "layout": {
          "annotationdefaults": {
           "arrowcolor": "#2a3f5f",
           "arrowhead": 0,
           "arrowwidth": 1
          },
          "autotypenumbers": "strict",
          "coloraxis": {
           "colorbar": {
            "outlinewidth": 0,
            "ticks": ""
           }
          },
          "colorscale": {
           "diverging": [
            [
             0,
             "#8e0152"
            ],
            [
             0.1,
             "#c51b7d"
            ],
            [
             0.2,
             "#de77ae"
            ],
            [
             0.3,
             "#f1b6da"
            ],
            [
             0.4,
             "#fde0ef"
            ],
            [
             0.5,
             "#f7f7f7"
            ],
            [
             0.6,
             "#e6f5d0"
            ],
            [
             0.7,
             "#b8e186"
            ],
            [
             0.8,
             "#7fbc41"
            ],
            [
             0.9,
             "#4d9221"
            ],
            [
             1,
             "#276419"
            ]
           ],
           "sequential": [
            [
             0,
             "#0d0887"
            ],
            [
             0.1111111111111111,
             "#46039f"
            ],
            [
             0.2222222222222222,
             "#7201a8"
            ],
            [
             0.3333333333333333,
             "#9c179e"
            ],
            [
             0.4444444444444444,
             "#bd3786"
            ],
            [
             0.5555555555555556,
             "#d8576b"
            ],
            [
             0.6666666666666666,
             "#ed7953"
            ],
            [
             0.7777777777777778,
             "#fb9f3a"
            ],
            [
             0.8888888888888888,
             "#fdca26"
            ],
            [
             1,
             "#f0f921"
            ]
           ],
           "sequentialminus": [
            [
             0,
             "#0d0887"
            ],
            [
             0.1111111111111111,
             "#46039f"
            ],
            [
             0.2222222222222222,
             "#7201a8"
            ],
            [
             0.3333333333333333,
             "#9c179e"
            ],
            [
             0.4444444444444444,
             "#bd3786"
            ],
            [
             0.5555555555555556,
             "#d8576b"
            ],
            [
             0.6666666666666666,
             "#ed7953"
            ],
            [
             0.7777777777777778,
             "#fb9f3a"
            ],
            [
             0.8888888888888888,
             "#fdca26"
            ],
            [
             1,
             "#f0f921"
            ]
           ]
          },
          "colorway": [
           "#636efa",
           "#EF553B",
           "#00cc96",
           "#ab63fa",
           "#FFA15A",
           "#19d3f3",
           "#FF6692",
           "#B6E880",
           "#FF97FF",
           "#FECB52"
          ],
          "font": {
           "color": "#2a3f5f"
          },
          "geo": {
           "bgcolor": "white",
           "lakecolor": "white",
           "landcolor": "#E5ECF6",
           "showlakes": true,
           "showland": true,
           "subunitcolor": "white"
          },
          "hoverlabel": {
           "align": "left"
          },
          "hovermode": "closest",
          "mapbox": {
           "style": "light"
          },
          "paper_bgcolor": "white",
          "plot_bgcolor": "#E5ECF6",
          "polar": {
           "angularaxis": {
            "gridcolor": "white",
            "linecolor": "white",
            "ticks": ""
           },
           "bgcolor": "#E5ECF6",
           "radialaxis": {
            "gridcolor": "white",
            "linecolor": "white",
            "ticks": ""
           }
          },
          "scene": {
           "xaxis": {
            "backgroundcolor": "#E5ECF6",
            "gridcolor": "white",
            "gridwidth": 2,
            "linecolor": "white",
            "showbackground": true,
            "ticks": "",
            "zerolinecolor": "white"
           },
           "yaxis": {
            "backgroundcolor": "#E5ECF6",
            "gridcolor": "white",
            "gridwidth": 2,
            "linecolor": "white",
            "showbackground": true,
            "ticks": "",
            "zerolinecolor": "white"
           },
           "zaxis": {
            "backgroundcolor": "#E5ECF6",
            "gridcolor": "white",
            "gridwidth": 2,
            "linecolor": "white",
            "showbackground": true,
            "ticks": "",
            "zerolinecolor": "white"
           }
          },
          "shapedefaults": {
           "line": {
            "color": "#2a3f5f"
           }
          },
          "ternary": {
           "aaxis": {
            "gridcolor": "white",
            "linecolor": "white",
            "ticks": ""
           },
           "baxis": {
            "gridcolor": "white",
            "linecolor": "white",
            "ticks": ""
           },
           "bgcolor": "#E5ECF6",
           "caxis": {
            "gridcolor": "white",
            "linecolor": "white",
            "ticks": ""
           }
          },
          "title": {
           "x": 0.05
          },
          "xaxis": {
           "automargin": true,
           "gridcolor": "white",
           "linecolor": "white",
           "ticks": "",
           "title": {
            "standoff": 15
           },
           "zerolinecolor": "white",
           "zerolinewidth": 2
          },
          "yaxis": {
           "automargin": true,
           "gridcolor": "white",
           "linecolor": "white",
           "ticks": "",
           "title": {
            "standoff": 15
           },
           "zerolinecolor": "white",
           "zerolinewidth": 2
          }
         }
        },
        "title": {
         "text": "Optimization History Plot"
        },
        "xaxis": {
         "title": {
          "text": "Trial"
         }
        },
        "yaxis": {
         "title": {
          "text": "Objective Value"
         }
        }
       }
      }
     },
     "metadata": {},
     "output_type": "display_data"
    }
   ],
   "source": [
    "plot_optimization_history(study)"
   ]
  },
  {
   "cell_type": "code",
   "execution_count": 18,
   "metadata": {},
   "outputs": [
    {
     "data": {
      "application/vnd.plotly.v1+json": {
       "config": {
        "plotlyServerURL": "https://plot.ly"
       },
       "data": [
        {
         "dimensions": [
          {
           "label": "Objective Value",
           "range": [
            0.1087624728679657,
            0.2542279064655304
           ],
           "values": [
            0.2542279064655304,
            0.1209527775645256,
            0.14893926680088043,
            0.13822509348392487,
            0.15717323124408722,
            0.1982777863740921,
            0.15246127545833588,
            0.1087624728679657
           ]
          },
          {
           "label": "batch_size",
           "range": [
            0,
            2
           ],
           "ticktext": [
            "32",
            "64",
            "128"
           ],
           "tickvals": [
            0,
            1,
            2
           ],
           "values": [
            0,
            0,
            1,
            1,
            2,
            2,
            2,
            2
           ]
          },
          {
           "label": "learning_rate",
           "range": [
            -3.782484661670326,
            -3.2368606880087905
           ],
           "ticktext": [
            "0.000165",
            "0.00058"
           ],
           "tickvals": [
            -3.782484661670326,
            -3.2368606880087905
           ],
           "values": [
            -3.2368606880087905,
            -3.7195170144639875,
            -3.55815439039099,
            -3.5158926121144725,
            -3.491539200847621,
            -3.368257547275447,
            -3.613129909188856,
            -3.782484661670326
           ]
          }
         ],
         "labelangle": 30,
         "labelside": "bottom",
         "line": {
          "color": [
           0.2542279064655304,
           0.1209527775645256,
           0.14893926680088043,
           0.13822509348392487,
           0.15717323124408722,
           0.1982777863740921,
           0.15246127545833588,
           0.1087624728679657
          ],
          "colorbar": {
           "title": {
            "text": "Objective Value"
           }
          },
          "colorscale": [
           [
            0,
            "rgb(247,251,255)"
           ],
           [
            0.125,
            "rgb(222,235,247)"
           ],
           [
            0.25,
            "rgb(198,219,239)"
           ],
           [
            0.375,
            "rgb(158,202,225)"
           ],
           [
            0.5,
            "rgb(107,174,214)"
           ],
           [
            0.625,
            "rgb(66,146,198)"
           ],
           [
            0.75,
            "rgb(33,113,181)"
           ],
           [
            0.875,
            "rgb(8,81,156)"
           ],
           [
            1,
            "rgb(8,48,107)"
           ]
          ],
          "reversescale": true,
          "showscale": true
         },
         "type": "parcoords"
        }
       ],
       "layout": {
        "font": {
         "size": 17
        },
        "template": {
         "data": {
          "bar": [
           {
            "error_x": {
             "color": "#2a3f5f"
            },
            "error_y": {
             "color": "#2a3f5f"
            },
            "marker": {
             "line": {
              "color": "#E5ECF6",
              "width": 0.5
             },
             "pattern": {
              "fillmode": "overlay",
              "size": 10,
              "solidity": 0.2
             }
            },
            "type": "bar"
           }
          ],
          "barpolar": [
           {
            "marker": {
             "line": {
              "color": "#E5ECF6",
              "width": 0.5
             },
             "pattern": {
              "fillmode": "overlay",
              "size": 10,
              "solidity": 0.2
             }
            },
            "type": "barpolar"
           }
          ],
          "carpet": [
           {
            "aaxis": {
             "endlinecolor": "#2a3f5f",
             "gridcolor": "white",
             "linecolor": "white",
             "minorgridcolor": "white",
             "startlinecolor": "#2a3f5f"
            },
            "baxis": {
             "endlinecolor": "#2a3f5f",
             "gridcolor": "white",
             "linecolor": "white",
             "minorgridcolor": "white",
             "startlinecolor": "#2a3f5f"
            },
            "type": "carpet"
           }
          ],
          "choropleth": [
           {
            "colorbar": {
             "outlinewidth": 0,
             "ticks": ""
            },
            "type": "choropleth"
           }
          ],
          "contour": [
           {
            "colorbar": {
             "outlinewidth": 0,
             "ticks": ""
            },
            "colorscale": [
             [
              0,
              "#0d0887"
             ],
             [
              0.1111111111111111,
              "#46039f"
             ],
             [
              0.2222222222222222,
              "#7201a8"
             ],
             [
              0.3333333333333333,
              "#9c179e"
             ],
             [
              0.4444444444444444,
              "#bd3786"
             ],
             [
              0.5555555555555556,
              "#d8576b"
             ],
             [
              0.6666666666666666,
              "#ed7953"
             ],
             [
              0.7777777777777778,
              "#fb9f3a"
             ],
             [
              0.8888888888888888,
              "#fdca26"
             ],
             [
              1,
              "#f0f921"
             ]
            ],
            "type": "contour"
           }
          ],
          "contourcarpet": [
           {
            "colorbar": {
             "outlinewidth": 0,
             "ticks": ""
            },
            "type": "contourcarpet"
           }
          ],
          "heatmap": [
           {
            "colorbar": {
             "outlinewidth": 0,
             "ticks": ""
            },
            "colorscale": [
             [
              0,
              "#0d0887"
             ],
             [
              0.1111111111111111,
              "#46039f"
             ],
             [
              0.2222222222222222,
              "#7201a8"
             ],
             [
              0.3333333333333333,
              "#9c179e"
             ],
             [
              0.4444444444444444,
              "#bd3786"
             ],
             [
              0.5555555555555556,
              "#d8576b"
             ],
             [
              0.6666666666666666,
              "#ed7953"
             ],
             [
              0.7777777777777778,
              "#fb9f3a"
             ],
             [
              0.8888888888888888,
              "#fdca26"
             ],
             [
              1,
              "#f0f921"
             ]
            ],
            "type": "heatmap"
           }
          ],
          "heatmapgl": [
           {
            "colorbar": {
             "outlinewidth": 0,
             "ticks": ""
            },
            "colorscale": [
             [
              0,
              "#0d0887"
             ],
             [
              0.1111111111111111,
              "#46039f"
             ],
             [
              0.2222222222222222,
              "#7201a8"
             ],
             [
              0.3333333333333333,
              "#9c179e"
             ],
             [
              0.4444444444444444,
              "#bd3786"
             ],
             [
              0.5555555555555556,
              "#d8576b"
             ],
             [
              0.6666666666666666,
              "#ed7953"
             ],
             [
              0.7777777777777778,
              "#fb9f3a"
             ],
             [
              0.8888888888888888,
              "#fdca26"
             ],
             [
              1,
              "#f0f921"
             ]
            ],
            "type": "heatmapgl"
           }
          ],
          "histogram": [
           {
            "marker": {
             "pattern": {
              "fillmode": "overlay",
              "size": 10,
              "solidity": 0.2
             }
            },
            "type": "histogram"
           }
          ],
          "histogram2d": [
           {
            "colorbar": {
             "outlinewidth": 0,
             "ticks": ""
            },
            "colorscale": [
             [
              0,
              "#0d0887"
             ],
             [
              0.1111111111111111,
              "#46039f"
             ],
             [
              0.2222222222222222,
              "#7201a8"
             ],
             [
              0.3333333333333333,
              "#9c179e"
             ],
             [
              0.4444444444444444,
              "#bd3786"
             ],
             [
              0.5555555555555556,
              "#d8576b"
             ],
             [
              0.6666666666666666,
              "#ed7953"
             ],
             [
              0.7777777777777778,
              "#fb9f3a"
             ],
             [
              0.8888888888888888,
              "#fdca26"
             ],
             [
              1,
              "#f0f921"
             ]
            ],
            "type": "histogram2d"
           }
          ],
          "histogram2dcontour": [
           {
            "colorbar": {
             "outlinewidth": 0,
             "ticks": ""
            },
            "colorscale": [
             [
              0,
              "#0d0887"
             ],
             [
              0.1111111111111111,
              "#46039f"
             ],
             [
              0.2222222222222222,
              "#7201a8"
             ],
             [
              0.3333333333333333,
              "#9c179e"
             ],
             [
              0.4444444444444444,
              "#bd3786"
             ],
             [
              0.5555555555555556,
              "#d8576b"
             ],
             [
              0.6666666666666666,
              "#ed7953"
             ],
             [
              0.7777777777777778,
              "#fb9f3a"
             ],
             [
              0.8888888888888888,
              "#fdca26"
             ],
             [
              1,
              "#f0f921"
             ]
            ],
            "type": "histogram2dcontour"
           }
          ],
          "mesh3d": [
           {
            "colorbar": {
             "outlinewidth": 0,
             "ticks": ""
            },
            "type": "mesh3d"
           }
          ],
          "parcoords": [
           {
            "line": {
             "colorbar": {
              "outlinewidth": 0,
              "ticks": ""
             }
            },
            "type": "parcoords"
           }
          ],
          "pie": [
           {
            "automargin": true,
            "type": "pie"
           }
          ],
          "scatter": [
           {
            "fillpattern": {
             "fillmode": "overlay",
             "size": 10,
             "solidity": 0.2
            },
            "type": "scatter"
           }
          ],
          "scatter3d": [
           {
            "line": {
             "colorbar": {
              "outlinewidth": 0,
              "ticks": ""
             }
            },
            "marker": {
             "colorbar": {
              "outlinewidth": 0,
              "ticks": ""
             }
            },
            "type": "scatter3d"
           }
          ],
          "scattercarpet": [
           {
            "marker": {
             "colorbar": {
              "outlinewidth": 0,
              "ticks": ""
             }
            },
            "type": "scattercarpet"
           }
          ],
          "scattergeo": [
           {
            "marker": {
             "colorbar": {
              "outlinewidth": 0,
              "ticks": ""
             }
            },
            "type": "scattergeo"
           }
          ],
          "scattergl": [
           {
            "marker": {
             "colorbar": {
              "outlinewidth": 0,
              "ticks": ""
             }
            },
            "type": "scattergl"
           }
          ],
          "scattermapbox": [
           {
            "marker": {
             "colorbar": {
              "outlinewidth": 0,
              "ticks": ""
             }
            },
            "type": "scattermapbox"
           }
          ],
          "scatterpolar": [
           {
            "marker": {
             "colorbar": {
              "outlinewidth": 0,
              "ticks": ""
             }
            },
            "type": "scatterpolar"
           }
          ],
          "scatterpolargl": [
           {
            "marker": {
             "colorbar": {
              "outlinewidth": 0,
              "ticks": ""
             }
            },
            "type": "scatterpolargl"
           }
          ],
          "scatterternary": [
           {
            "marker": {
             "colorbar": {
              "outlinewidth": 0,
              "ticks": ""
             }
            },
            "type": "scatterternary"
           }
          ],
          "surface": [
           {
            "colorbar": {
             "outlinewidth": 0,
             "ticks": ""
            },
            "colorscale": [
             [
              0,
              "#0d0887"
             ],
             [
              0.1111111111111111,
              "#46039f"
             ],
             [
              0.2222222222222222,
              "#7201a8"
             ],
             [
              0.3333333333333333,
              "#9c179e"
             ],
             [
              0.4444444444444444,
              "#bd3786"
             ],
             [
              0.5555555555555556,
              "#d8576b"
             ],
             [
              0.6666666666666666,
              "#ed7953"
             ],
             [
              0.7777777777777778,
              "#fb9f3a"
             ],
             [
              0.8888888888888888,
              "#fdca26"
             ],
             [
              1,
              "#f0f921"
             ]
            ],
            "type": "surface"
           }
          ],
          "table": [
           {
            "cells": {
             "fill": {
              "color": "#EBF0F8"
             },
             "line": {
              "color": "white"
             }
            },
            "header": {
             "fill": {
              "color": "#C8D4E3"
             },
             "line": {
              "color": "white"
             }
            },
            "type": "table"
           }
          ]
         },
         "layout": {
          "annotationdefaults": {
           "arrowcolor": "#2a3f5f",
           "arrowhead": 0,
           "arrowwidth": 1
          },
          "autotypenumbers": "strict",
          "coloraxis": {
           "colorbar": {
            "outlinewidth": 0,
            "ticks": ""
           }
          },
          "colorscale": {
           "diverging": [
            [
             0,
             "#8e0152"
            ],
            [
             0.1,
             "#c51b7d"
            ],
            [
             0.2,
             "#de77ae"
            ],
            [
             0.3,
             "#f1b6da"
            ],
            [
             0.4,
             "#fde0ef"
            ],
            [
             0.5,
             "#f7f7f7"
            ],
            [
             0.6,
             "#e6f5d0"
            ],
            [
             0.7,
             "#b8e186"
            ],
            [
             0.8,
             "#7fbc41"
            ],
            [
             0.9,
             "#4d9221"
            ],
            [
             1,
             "#276419"
            ]
           ],
           "sequential": [
            [
             0,
             "#0d0887"
            ],
            [
             0.1111111111111111,
             "#46039f"
            ],
            [
             0.2222222222222222,
             "#7201a8"
            ],
            [
             0.3333333333333333,
             "#9c179e"
            ],
            [
             0.4444444444444444,
             "#bd3786"
            ],
            [
             0.5555555555555556,
             "#d8576b"
            ],
            [
             0.6666666666666666,
             "#ed7953"
            ],
            [
             0.7777777777777778,
             "#fb9f3a"
            ],
            [
             0.8888888888888888,
             "#fdca26"
            ],
            [
             1,
             "#f0f921"
            ]
           ],
           "sequentialminus": [
            [
             0,
             "#0d0887"
            ],
            [
             0.1111111111111111,
             "#46039f"
            ],
            [
             0.2222222222222222,
             "#7201a8"
            ],
            [
             0.3333333333333333,
             "#9c179e"
            ],
            [
             0.4444444444444444,
             "#bd3786"
            ],
            [
             0.5555555555555556,
             "#d8576b"
            ],
            [
             0.6666666666666666,
             "#ed7953"
            ],
            [
             0.7777777777777778,
             "#fb9f3a"
            ],
            [
             0.8888888888888888,
             "#fdca26"
            ],
            [
             1,
             "#f0f921"
            ]
           ]
          },
          "colorway": [
           "#636efa",
           "#EF553B",
           "#00cc96",
           "#ab63fa",
           "#FFA15A",
           "#19d3f3",
           "#FF6692",
           "#B6E880",
           "#FF97FF",
           "#FECB52"
          ],
          "font": {
           "color": "#2a3f5f"
          },
          "geo": {
           "bgcolor": "white",
           "lakecolor": "white",
           "landcolor": "#E5ECF6",
           "showlakes": true,
           "showland": true,
           "subunitcolor": "white"
          },
          "hoverlabel": {
           "align": "left"
          },
          "hovermode": "closest",
          "mapbox": {
           "style": "light"
          },
          "paper_bgcolor": "white",
          "plot_bgcolor": "#E5ECF6",
          "polar": {
           "angularaxis": {
            "gridcolor": "white",
            "linecolor": "white",
            "ticks": ""
           },
           "bgcolor": "#E5ECF6",
           "radialaxis": {
            "gridcolor": "white",
            "linecolor": "white",
            "ticks": ""
           }
          },
          "scene": {
           "xaxis": {
            "backgroundcolor": "#E5ECF6",
            "gridcolor": "white",
            "gridwidth": 2,
            "linecolor": "white",
            "showbackground": true,
            "ticks": "",
            "zerolinecolor": "white"
           },
           "yaxis": {
            "backgroundcolor": "#E5ECF6",
            "gridcolor": "white",
            "gridwidth": 2,
            "linecolor": "white",
            "showbackground": true,
            "ticks": "",
            "zerolinecolor": "white"
           },
           "zaxis": {
            "backgroundcolor": "#E5ECF6",
            "gridcolor": "white",
            "gridwidth": 2,
            "linecolor": "white",
            "showbackground": true,
            "ticks": "",
            "zerolinecolor": "white"
           }
          },
          "shapedefaults": {
           "line": {
            "color": "#2a3f5f"
           }
          },
          "ternary": {
           "aaxis": {
            "gridcolor": "white",
            "linecolor": "white",
            "ticks": ""
           },
           "baxis": {
            "gridcolor": "white",
            "linecolor": "white",
            "ticks": ""
           },
           "bgcolor": "#E5ECF6",
           "caxis": {
            "gridcolor": "white",
            "linecolor": "white",
            "ticks": ""
           }
          },
          "title": {
           "x": 0.05
          },
          "xaxis": {
           "automargin": true,
           "gridcolor": "white",
           "linecolor": "white",
           "ticks": "",
           "title": {
            "standoff": 15
           },
           "zerolinecolor": "white",
           "zerolinewidth": 2
          },
          "yaxis": {
           "automargin": true,
           "gridcolor": "white",
           "linecolor": "white",
           "ticks": "",
           "title": {
            "standoff": 15
           },
           "zerolinecolor": "white",
           "zerolinewidth": 2
          }
         }
        },
        "title": {
         "text": "Parallel Coordinate Plot"
        }
       }
      }
     },
     "metadata": {},
     "output_type": "display_data"
    }
   ],
   "source": [
    "fig = plot_parallel_coordinate(study, params=[\"learning_rate\", \"batch_size\"])\n",
    "# increase font size\n",
    "fig.update_layout(font=dict(size=17))\n",
    "fig.show()"
   ]
  }
 ],
 "metadata": {
  "kernelspec": {
   "display_name": "deep_learning",
   "language": "python",
   "name": "python3"
  },
  "language_info": {
   "codemirror_mode": {
    "name": "ipython",
    "version": 3
   },
   "file_extension": ".py",
   "mimetype": "text/x-python",
   "name": "python",
   "nbconvert_exporter": "python",
   "pygments_lexer": "ipython3",
   "version": "3.12.7"
  }
 },
 "nbformat": 4,
 "nbformat_minor": 2
}
